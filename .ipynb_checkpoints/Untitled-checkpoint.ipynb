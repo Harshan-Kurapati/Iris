{
 "cells": [
  {
   "cell_type": "code",
   "execution_count": 2,
   "id": "aa2f87b7",
   "metadata": {},
   "outputs": [],
   "source": [
    "import numpy as np\n",
    "import pandas as pd\n",
    "import matplotlib.pyplot as plt\n",
    "from sklearn.preprocessing import StandardScaler \n",
    "from sklearn.model_selection import train_test_split\n",
    "from sklearn.linear_model import LogisticRegression\n",
    "from sklearn.metrics import accuracy_score, precision_score, recall_score, f1_score\n",
    " \n"
   ]
  },
  {
   "cell_type": "code",
   "execution_count": 3,
   "id": "f5696091",
   "metadata": {},
   "outputs": [],
   "source": [
    "df = pd.read_csv(\"iris.csv\")"
   ]
  },
  {
   "cell_type": "code",
   "execution_count": 4,
   "id": "36d1fc89",
   "metadata": {},
   "outputs": [],
   "source": [
    "df.drop(\"Id\", axis = 1, inplace = True)"
   ]
  },
  {
   "cell_type": "code",
   "execution_count": 5,
   "id": "a24b6667",
   "metadata": {},
   "outputs": [
    {
     "data": {
      "text/html": [
       "<div>\n",
       "<style scoped>\n",
       "    .dataframe tbody tr th:only-of-type {\n",
       "        vertical-align: middle;\n",
       "    }\n",
       "\n",
       "    .dataframe tbody tr th {\n",
       "        vertical-align: top;\n",
       "    }\n",
       "\n",
       "    .dataframe thead th {\n",
       "        text-align: right;\n",
       "    }\n",
       "</style>\n",
       "<table border=\"1\" class=\"dataframe\">\n",
       "  <thead>\n",
       "    <tr style=\"text-align: right;\">\n",
       "      <th></th>\n",
       "      <th>SepalLengthCm</th>\n",
       "      <th>SepalWidthCm</th>\n",
       "      <th>PetalLengthCm</th>\n",
       "      <th>PetalWidthCm</th>\n",
       "    </tr>\n",
       "  </thead>\n",
       "  <tbody>\n",
       "    <tr>\n",
       "      <th>count</th>\n",
       "      <td>150.000000</td>\n",
       "      <td>150.000000</td>\n",
       "      <td>150.000000</td>\n",
       "      <td>150.000000</td>\n",
       "    </tr>\n",
       "    <tr>\n",
       "      <th>mean</th>\n",
       "      <td>5.843333</td>\n",
       "      <td>3.054000</td>\n",
       "      <td>3.758667</td>\n",
       "      <td>1.198667</td>\n",
       "    </tr>\n",
       "    <tr>\n",
       "      <th>std</th>\n",
       "      <td>0.828066</td>\n",
       "      <td>0.433594</td>\n",
       "      <td>1.764420</td>\n",
       "      <td>0.763161</td>\n",
       "    </tr>\n",
       "    <tr>\n",
       "      <th>min</th>\n",
       "      <td>4.300000</td>\n",
       "      <td>2.000000</td>\n",
       "      <td>1.000000</td>\n",
       "      <td>0.100000</td>\n",
       "    </tr>\n",
       "    <tr>\n",
       "      <th>25%</th>\n",
       "      <td>5.100000</td>\n",
       "      <td>2.800000</td>\n",
       "      <td>1.600000</td>\n",
       "      <td>0.300000</td>\n",
       "    </tr>\n",
       "    <tr>\n",
       "      <th>50%</th>\n",
       "      <td>5.800000</td>\n",
       "      <td>3.000000</td>\n",
       "      <td>4.350000</td>\n",
       "      <td>1.300000</td>\n",
       "    </tr>\n",
       "    <tr>\n",
       "      <th>75%</th>\n",
       "      <td>6.400000</td>\n",
       "      <td>3.300000</td>\n",
       "      <td>5.100000</td>\n",
       "      <td>1.800000</td>\n",
       "    </tr>\n",
       "    <tr>\n",
       "      <th>max</th>\n",
       "      <td>7.900000</td>\n",
       "      <td>4.400000</td>\n",
       "      <td>6.900000</td>\n",
       "      <td>2.500000</td>\n",
       "    </tr>\n",
       "  </tbody>\n",
       "</table>\n",
       "</div>"
      ],
      "text/plain": [
       "       SepalLengthCm  SepalWidthCm  PetalLengthCm  PetalWidthCm\n",
       "count     150.000000    150.000000     150.000000    150.000000\n",
       "mean        5.843333      3.054000       3.758667      1.198667\n",
       "std         0.828066      0.433594       1.764420      0.763161\n",
       "min         4.300000      2.000000       1.000000      0.100000\n",
       "25%         5.100000      2.800000       1.600000      0.300000\n",
       "50%         5.800000      3.000000       4.350000      1.300000\n",
       "75%         6.400000      3.300000       5.100000      1.800000\n",
       "max         7.900000      4.400000       6.900000      2.500000"
      ]
     },
     "execution_count": 5,
     "metadata": {},
     "output_type": "execute_result"
    }
   ],
   "source": [
    "df.describe()"
   ]
  },
  {
   "cell_type": "code",
   "execution_count": 6,
   "id": "134940e0",
   "metadata": {},
   "outputs": [
    {
     "name": "stdout",
     "output_type": "stream",
     "text": [
      "<class 'pandas.core.frame.DataFrame'>\n",
      "RangeIndex: 150 entries, 0 to 149\n",
      "Data columns (total 5 columns):\n",
      " #   Column         Non-Null Count  Dtype  \n",
      "---  ------         --------------  -----  \n",
      " 0   SepalLengthCm  150 non-null    float64\n",
      " 1   SepalWidthCm   150 non-null    float64\n",
      " 2   PetalLengthCm  150 non-null    float64\n",
      " 3   PetalWidthCm   150 non-null    float64\n",
      " 4   Species        150 non-null    object \n",
      "dtypes: float64(4), object(1)\n",
      "memory usage: 6.0+ KB\n"
     ]
    }
   ],
   "source": [
    "df.info()"
   ]
  },
  {
   "cell_type": "code",
   "execution_count": 7,
   "id": "34a9901b",
   "metadata": {},
   "outputs": [],
   "source": [
    "X = df.drop([\"Species\" ], axis = 1)\n",
    "y = df[\"Species\"]"
   ]
  },
  {
   "cell_type": "code",
   "execution_count": 8,
   "id": "c29e4a15",
   "metadata": {},
   "outputs": [
    {
     "data": {
      "text/plain": [
       "array(['Iris-setosa', 'Iris-versicolor', 'Iris-virginica'], dtype=object)"
      ]
     },
     "execution_count": 8,
     "metadata": {},
     "output_type": "execute_result"
    }
   ],
   "source": [
    "y.unique()"
   ]
  },
  {
   "cell_type": "markdown",
   "id": "d4663b04",
   "metadata": {},
   "source": [
    "# One hot encoding"
   ]
  },
  {
   "cell_type": "code",
   "execution_count": null,
   "id": "c98ded76",
   "metadata": {},
   "outputs": [],
   "source": []
  },
  {
   "cell_type": "code",
   "execution_count": 9,
   "id": "ea38890a",
   "metadata": {},
   "outputs": [],
   "source": [
    "one_hot = pd.get_dummies(df[\"Species\"], prefix = \"is\")\n",
    "data = pd.concat([df, one_hot], axis = 1)\n",
    "data = data.drop(\"Species\", axis = 1)"
   ]
  },
  {
   "cell_type": "code",
   "execution_count": 10,
   "id": "226ceb19",
   "metadata": {},
   "outputs": [
    {
     "data": {
      "text/html": [
       "<div>\n",
       "<style scoped>\n",
       "    .dataframe tbody tr th:only-of-type {\n",
       "        vertical-align: middle;\n",
       "    }\n",
       "\n",
       "    .dataframe tbody tr th {\n",
       "        vertical-align: top;\n",
       "    }\n",
       "\n",
       "    .dataframe thead th {\n",
       "        text-align: right;\n",
       "    }\n",
       "</style>\n",
       "<table border=\"1\" class=\"dataframe\">\n",
       "  <thead>\n",
       "    <tr style=\"text-align: right;\">\n",
       "      <th></th>\n",
       "      <th>SepalLengthCm</th>\n",
       "      <th>SepalWidthCm</th>\n",
       "      <th>PetalLengthCm</th>\n",
       "      <th>PetalWidthCm</th>\n",
       "      <th>is_Iris-setosa</th>\n",
       "      <th>is_Iris-versicolor</th>\n",
       "      <th>is_Iris-virginica</th>\n",
       "    </tr>\n",
       "  </thead>\n",
       "  <tbody>\n",
       "    <tr>\n",
       "      <th>0</th>\n",
       "      <td>5.1</td>\n",
       "      <td>3.5</td>\n",
       "      <td>1.4</td>\n",
       "      <td>0.2</td>\n",
       "      <td>1</td>\n",
       "      <td>0</td>\n",
       "      <td>0</td>\n",
       "    </tr>\n",
       "    <tr>\n",
       "      <th>1</th>\n",
       "      <td>4.9</td>\n",
       "      <td>3.0</td>\n",
       "      <td>1.4</td>\n",
       "      <td>0.2</td>\n",
       "      <td>1</td>\n",
       "      <td>0</td>\n",
       "      <td>0</td>\n",
       "    </tr>\n",
       "    <tr>\n",
       "      <th>2</th>\n",
       "      <td>4.7</td>\n",
       "      <td>3.2</td>\n",
       "      <td>1.3</td>\n",
       "      <td>0.2</td>\n",
       "      <td>1</td>\n",
       "      <td>0</td>\n",
       "      <td>0</td>\n",
       "    </tr>\n",
       "    <tr>\n",
       "      <th>3</th>\n",
       "      <td>4.6</td>\n",
       "      <td>3.1</td>\n",
       "      <td>1.5</td>\n",
       "      <td>0.2</td>\n",
       "      <td>1</td>\n",
       "      <td>0</td>\n",
       "      <td>0</td>\n",
       "    </tr>\n",
       "    <tr>\n",
       "      <th>4</th>\n",
       "      <td>5.0</td>\n",
       "      <td>3.6</td>\n",
       "      <td>1.4</td>\n",
       "      <td>0.2</td>\n",
       "      <td>1</td>\n",
       "      <td>0</td>\n",
       "      <td>0</td>\n",
       "    </tr>\n",
       "    <tr>\n",
       "      <th>...</th>\n",
       "      <td>...</td>\n",
       "      <td>...</td>\n",
       "      <td>...</td>\n",
       "      <td>...</td>\n",
       "      <td>...</td>\n",
       "      <td>...</td>\n",
       "      <td>...</td>\n",
       "    </tr>\n",
       "    <tr>\n",
       "      <th>145</th>\n",
       "      <td>6.7</td>\n",
       "      <td>3.0</td>\n",
       "      <td>5.2</td>\n",
       "      <td>2.3</td>\n",
       "      <td>0</td>\n",
       "      <td>0</td>\n",
       "      <td>1</td>\n",
       "    </tr>\n",
       "    <tr>\n",
       "      <th>146</th>\n",
       "      <td>6.3</td>\n",
       "      <td>2.5</td>\n",
       "      <td>5.0</td>\n",
       "      <td>1.9</td>\n",
       "      <td>0</td>\n",
       "      <td>0</td>\n",
       "      <td>1</td>\n",
       "    </tr>\n",
       "    <tr>\n",
       "      <th>147</th>\n",
       "      <td>6.5</td>\n",
       "      <td>3.0</td>\n",
       "      <td>5.2</td>\n",
       "      <td>2.0</td>\n",
       "      <td>0</td>\n",
       "      <td>0</td>\n",
       "      <td>1</td>\n",
       "    </tr>\n",
       "    <tr>\n",
       "      <th>148</th>\n",
       "      <td>6.2</td>\n",
       "      <td>3.4</td>\n",
       "      <td>5.4</td>\n",
       "      <td>2.3</td>\n",
       "      <td>0</td>\n",
       "      <td>0</td>\n",
       "      <td>1</td>\n",
       "    </tr>\n",
       "    <tr>\n",
       "      <th>149</th>\n",
       "      <td>5.9</td>\n",
       "      <td>3.0</td>\n",
       "      <td>5.1</td>\n",
       "      <td>1.8</td>\n",
       "      <td>0</td>\n",
       "      <td>0</td>\n",
       "      <td>1</td>\n",
       "    </tr>\n",
       "  </tbody>\n",
       "</table>\n",
       "<p>150 rows × 7 columns</p>\n",
       "</div>"
      ],
      "text/plain": [
       "     SepalLengthCm  SepalWidthCm  PetalLengthCm  PetalWidthCm  is_Iris-setosa  \\\n",
       "0              5.1           3.5            1.4           0.2               1   \n",
       "1              4.9           3.0            1.4           0.2               1   \n",
       "2              4.7           3.2            1.3           0.2               1   \n",
       "3              4.6           3.1            1.5           0.2               1   \n",
       "4              5.0           3.6            1.4           0.2               1   \n",
       "..             ...           ...            ...           ...             ...   \n",
       "145            6.7           3.0            5.2           2.3               0   \n",
       "146            6.3           2.5            5.0           1.9               0   \n",
       "147            6.5           3.0            5.2           2.0               0   \n",
       "148            6.2           3.4            5.4           2.3               0   \n",
       "149            5.9           3.0            5.1           1.8               0   \n",
       "\n",
       "     is_Iris-versicolor  is_Iris-virginica  \n",
       "0                     0                  0  \n",
       "1                     0                  0  \n",
       "2                     0                  0  \n",
       "3                     0                  0  \n",
       "4                     0                  0  \n",
       "..                  ...                ...  \n",
       "145                   0                  1  \n",
       "146                   0                  1  \n",
       "147                   0                  1  \n",
       "148                   0                  1  \n",
       "149                   0                  1  \n",
       "\n",
       "[150 rows x 7 columns]"
      ]
     },
     "execution_count": 10,
     "metadata": {},
     "output_type": "execute_result"
    }
   ],
   "source": [
    "data"
   ]
  },
  {
   "cell_type": "code",
   "execution_count": 11,
   "id": "8b1fcde1",
   "metadata": {},
   "outputs": [],
   "source": [
    "X = data.drop([\"is_Iris-setosa\", \"is_Iris-versicolor\", \"is_Iris-virginica\"], axis = 1)\n",
    "y_versicolor = data['is_Iris-versicolor']\n",
    "y_setosa = data['is_Iris-setosa']\n",
    "y_virginica = data['is_Iris-virginica']\n"
   ]
  },
  {
   "cell_type": "code",
   "execution_count": 12,
   "id": "8ec4718e",
   "metadata": {},
   "outputs": [],
   "source": [
    "X_train, X_test, y_versicolor_train, y_versicolor_test = train_test_split(X, y_versicolor, test_size=0.2, random_state=42)\n",
    "_, _, y_setosa_train, y_setosa_test = train_test_split(X, y_setosa, test_size=0.2, random_state=42)\n",
    "_, _, y_virginica_train, y_virginica_test = train_test_split(X, y_virginica, test_size=0.2, random_state=42)\n"
   ]
  },
  {
   "cell_type": "markdown",
   "id": "aee6077f",
   "metadata": {},
   "source": [
    "# Train Logistic Regression (Built-In)"
   ]
  },
  {
   "cell_type": "markdown",
   "id": "a0841c22",
   "metadata": {},
   "source": [
    "model_versicolor = LogisticRegression()\n",
    "model_setosa = LogisticRegression()\n",
    "model_virginica = LogisticRegression()"
   ]
  },
  {
   "cell_type": "markdown",
   "id": "60a978fb",
   "metadata": {},
   "source": [
    "model_versicolor.fit(X_train, y_versicolor_train) \n",
    "model_setosa.fit(X_train, y_setosa_train) \n",
    "model_virginica.fit(X_train, y_virginica_train) "
   ]
  },
  {
   "cell_type": "markdown",
   "id": "ad67d2b8",
   "metadata": {},
   "source": [
    "y_versicolor_pred = model_versicolor.predict(X_test)\n",
    "y_setosa_pred = model_setosa.predict(X_test)\n",
    "y_virginica_pred = model_virginica.predict(X_test)"
   ]
  },
  {
   "cell_type": "markdown",
   "id": "68f2d451",
   "metadata": {},
   "source": [
    "def evaluate_model(y_true, y_pred, class_name):\n",
    "    print(f\"Evaluation Metrics for {class_name}:\")\n",
    "    print(f\"Accuracy: {accuracy_score(y_true, y_pred):.2f}\")\n",
    "    print(f\"Precision: {precision_score(y_true, y_pred):.2f}\")\n",
    "    print(f\"Recall: {recall_score(y_true, y_pred):.2f}\")\n",
    "    print(f\"F1-Score: {f1_score(y_true, y_pred):.2f}\")\n",
    "    print(\"-\" * 30)\n",
    "\n",
    "    "
   ]
  },
  {
   "cell_type": "markdown",
   "id": "2e54587a",
   "metadata": {},
   "source": [
    "evaluate_model(y_versicolor_test, y_versicolor_pred, \"Versicolor\")\n",
    "evaluate_model(y_setosa_test, y_setosa_pred, \"Setosa\")\n",
    "evaluate_model(y_virginica_test, y_virginica_pred, \"Virginica\")"
   ]
  },
  {
   "cell_type": "markdown",
   "id": "00ccc1fc",
   "metadata": {},
   "source": [
    "probs_versicolor = model_versicolor.predict_proba(X_test)[:, 1]\n",
    "probs_setosa = model_setosa.predict_proba(X_test)[:, 1]\n",
    "probs_virginica = model_virginica.predict_proba(X_test)[:, 1]\n"
   ]
  },
  {
   "cell_type": "markdown",
   "id": "503965b1",
   "metadata": {},
   "source": [
    "combined_probs = pd.DataFrame({\n",
    "    'versicolor': probs_versicolor,\n",
    "    'setosa': probs_setosa,\n",
    "    'virginica': probs_virginica\n",
    "}) "
   ]
  },
  {
   "cell_type": "markdown",
   "id": "1a6aa5d4",
   "metadata": {},
   "source": [
    "multi_class_predictions = combined_probs.idxmax(axis=1)\n",
    "\n",
    "print(\"\\nMulti-class Predictions:\")\n",
    "print(multi_class_predictions.head())"
   ]
  },
  {
   "cell_type": "markdown",
   "id": "de8cdf5e",
   "metadata": {},
   "source": [
    "# Manual Built of Logistic Model"
   ]
  },
  {
   "cell_type": "markdown",
   "id": "c4fce197",
   "metadata": {},
   "source": [
    "# Standardize"
   ]
  },
  {
   "cell_type": "code",
   "execution_count": 13,
   "id": "1e3c7cdb",
   "metadata": {},
   "outputs": [],
   "source": [
    "standardise = StandardScaler()\n",
    "\n",
    "X_train = X_train.copy()\n",
    "\n",
    "X_train.loc[:,:] = standardise.fit_transform(X_train)\n",
    "\n"
   ]
  },
  {
   "cell_type": "code",
   "execution_count": 14,
   "id": "d586d087",
   "metadata": {},
   "outputs": [
    {
     "data": {
      "text/html": [
       "<div>\n",
       "<style scoped>\n",
       "    .dataframe tbody tr th:only-of-type {\n",
       "        vertical-align: middle;\n",
       "    }\n",
       "\n",
       "    .dataframe tbody tr th {\n",
       "        vertical-align: top;\n",
       "    }\n",
       "\n",
       "    .dataframe thead th {\n",
       "        text-align: right;\n",
       "    }\n",
       "</style>\n",
       "<table border=\"1\" class=\"dataframe\">\n",
       "  <thead>\n",
       "    <tr style=\"text-align: right;\">\n",
       "      <th></th>\n",
       "      <th>SepalLengthCm</th>\n",
       "      <th>SepalWidthCm</th>\n",
       "      <th>PetalLengthCm</th>\n",
       "      <th>PetalWidthCm</th>\n",
       "    </tr>\n",
       "  </thead>\n",
       "  <tbody>\n",
       "    <tr>\n",
       "      <th>22</th>\n",
       "      <td>-1.473937</td>\n",
       "      <td>1.220379</td>\n",
       "      <td>-1.563987</td>\n",
       "      <td>-1.309484</td>\n",
       "    </tr>\n",
       "    <tr>\n",
       "      <th>15</th>\n",
       "      <td>-0.133071</td>\n",
       "      <td>3.020017</td>\n",
       "      <td>-1.277280</td>\n",
       "      <td>-1.042922</td>\n",
       "    </tr>\n",
       "    <tr>\n",
       "      <th>65</th>\n",
       "      <td>1.085898</td>\n",
       "      <td>0.095606</td>\n",
       "      <td>0.385621</td>\n",
       "      <td>0.289886</td>\n",
       "    </tr>\n",
       "    <tr>\n",
       "      <th>11</th>\n",
       "      <td>-1.230143</td>\n",
       "      <td>0.770470</td>\n",
       "      <td>-1.219939</td>\n",
       "      <td>-1.309484</td>\n",
       "    </tr>\n",
       "    <tr>\n",
       "      <th>42</th>\n",
       "      <td>-1.717731</td>\n",
       "      <td>0.320560</td>\n",
       "      <td>-1.391963</td>\n",
       "      <td>-1.309484</td>\n",
       "    </tr>\n",
       "    <tr>\n",
       "      <th>...</th>\n",
       "      <td>...</td>\n",
       "      <td>...</td>\n",
       "      <td>...</td>\n",
       "      <td>...</td>\n",
       "    </tr>\n",
       "    <tr>\n",
       "      <th>71</th>\n",
       "      <td>0.354517</td>\n",
       "      <td>-0.579258</td>\n",
       "      <td>0.156255</td>\n",
       "      <td>0.156605</td>\n",
       "    </tr>\n",
       "    <tr>\n",
       "      <th>106</th>\n",
       "      <td>-1.108246</td>\n",
       "      <td>-1.254122</td>\n",
       "      <td>0.442962</td>\n",
       "      <td>0.689728</td>\n",
       "    </tr>\n",
       "    <tr>\n",
       "      <th>14</th>\n",
       "      <td>-0.011174</td>\n",
       "      <td>2.120198</td>\n",
       "      <td>-1.449304</td>\n",
       "      <td>-1.309484</td>\n",
       "    </tr>\n",
       "    <tr>\n",
       "      <th>92</th>\n",
       "      <td>-0.011174</td>\n",
       "      <td>-1.029168</td>\n",
       "      <td>0.156255</td>\n",
       "      <td>0.023324</td>\n",
       "    </tr>\n",
       "    <tr>\n",
       "      <th>102</th>\n",
       "      <td>1.573486</td>\n",
       "      <td>-0.129349</td>\n",
       "      <td>1.245742</td>\n",
       "      <td>1.222851</td>\n",
       "    </tr>\n",
       "  </tbody>\n",
       "</table>\n",
       "<p>120 rows × 4 columns</p>\n",
       "</div>"
      ],
      "text/plain": [
       "     SepalLengthCm  SepalWidthCm  PetalLengthCm  PetalWidthCm\n",
       "22       -1.473937      1.220379      -1.563987     -1.309484\n",
       "15       -0.133071      3.020017      -1.277280     -1.042922\n",
       "65        1.085898      0.095606       0.385621      0.289886\n",
       "11       -1.230143      0.770470      -1.219939     -1.309484\n",
       "42       -1.717731      0.320560      -1.391963     -1.309484\n",
       "..             ...           ...            ...           ...\n",
       "71        0.354517     -0.579258       0.156255      0.156605\n",
       "106      -1.108246     -1.254122       0.442962      0.689728\n",
       "14       -0.011174      2.120198      -1.449304     -1.309484\n",
       "92       -0.011174     -1.029168       0.156255      0.023324\n",
       "102       1.573486     -0.129349       1.245742      1.222851\n",
       "\n",
       "[120 rows x 4 columns]"
      ]
     },
     "execution_count": 14,
     "metadata": {},
     "output_type": "execute_result"
    }
   ],
   "source": [
    "X_train"
   ]
  },
  {
   "cell_type": "code",
   "execution_count": 15,
   "id": "67fc49e4",
   "metadata": {},
   "outputs": [],
   "source": [
    "X_train[\"bias\"] = 1\n",
    "theta = np.zeros(X_train.shape[1])"
   ]
  },
  {
   "cell_type": "code",
   "execution_count": 16,
   "id": "743f198a",
   "metadata": {},
   "outputs": [
    {
     "data": {
      "text/plain": [
       "5"
      ]
     },
     "execution_count": 16,
     "metadata": {},
     "output_type": "execute_result"
    }
   ],
   "source": [
    "X_train.shape[1]"
   ]
  },
  {
   "cell_type": "code",
   "execution_count": 17,
   "id": "e275c1af",
   "metadata": {},
   "outputs": [
    {
     "data": {
      "text/html": [
       "<div>\n",
       "<style scoped>\n",
       "    .dataframe tbody tr th:only-of-type {\n",
       "        vertical-align: middle;\n",
       "    }\n",
       "\n",
       "    .dataframe tbody tr th {\n",
       "        vertical-align: top;\n",
       "    }\n",
       "\n",
       "    .dataframe thead th {\n",
       "        text-align: right;\n",
       "    }\n",
       "</style>\n",
       "<table border=\"1\" class=\"dataframe\">\n",
       "  <thead>\n",
       "    <tr style=\"text-align: right;\">\n",
       "      <th></th>\n",
       "      <th>SepalLengthCm</th>\n",
       "      <th>SepalWidthCm</th>\n",
       "      <th>PetalLengthCm</th>\n",
       "      <th>PetalWidthCm</th>\n",
       "      <th>bias</th>\n",
       "    </tr>\n",
       "  </thead>\n",
       "  <tbody>\n",
       "    <tr>\n",
       "      <th>22</th>\n",
       "      <td>-1.473937</td>\n",
       "      <td>1.220379</td>\n",
       "      <td>-1.563987</td>\n",
       "      <td>-1.309484</td>\n",
       "      <td>1</td>\n",
       "    </tr>\n",
       "    <tr>\n",
       "      <th>15</th>\n",
       "      <td>-0.133071</td>\n",
       "      <td>3.020017</td>\n",
       "      <td>-1.277280</td>\n",
       "      <td>-1.042922</td>\n",
       "      <td>1</td>\n",
       "    </tr>\n",
       "    <tr>\n",
       "      <th>65</th>\n",
       "      <td>1.085898</td>\n",
       "      <td>0.095606</td>\n",
       "      <td>0.385621</td>\n",
       "      <td>0.289886</td>\n",
       "      <td>1</td>\n",
       "    </tr>\n",
       "    <tr>\n",
       "      <th>11</th>\n",
       "      <td>-1.230143</td>\n",
       "      <td>0.770470</td>\n",
       "      <td>-1.219939</td>\n",
       "      <td>-1.309484</td>\n",
       "      <td>1</td>\n",
       "    </tr>\n",
       "    <tr>\n",
       "      <th>42</th>\n",
       "      <td>-1.717731</td>\n",
       "      <td>0.320560</td>\n",
       "      <td>-1.391963</td>\n",
       "      <td>-1.309484</td>\n",
       "      <td>1</td>\n",
       "    </tr>\n",
       "    <tr>\n",
       "      <th>...</th>\n",
       "      <td>...</td>\n",
       "      <td>...</td>\n",
       "      <td>...</td>\n",
       "      <td>...</td>\n",
       "      <td>...</td>\n",
       "    </tr>\n",
       "    <tr>\n",
       "      <th>71</th>\n",
       "      <td>0.354517</td>\n",
       "      <td>-0.579258</td>\n",
       "      <td>0.156255</td>\n",
       "      <td>0.156605</td>\n",
       "      <td>1</td>\n",
       "    </tr>\n",
       "    <tr>\n",
       "      <th>106</th>\n",
       "      <td>-1.108246</td>\n",
       "      <td>-1.254122</td>\n",
       "      <td>0.442962</td>\n",
       "      <td>0.689728</td>\n",
       "      <td>1</td>\n",
       "    </tr>\n",
       "    <tr>\n",
       "      <th>14</th>\n",
       "      <td>-0.011174</td>\n",
       "      <td>2.120198</td>\n",
       "      <td>-1.449304</td>\n",
       "      <td>-1.309484</td>\n",
       "      <td>1</td>\n",
       "    </tr>\n",
       "    <tr>\n",
       "      <th>92</th>\n",
       "      <td>-0.011174</td>\n",
       "      <td>-1.029168</td>\n",
       "      <td>0.156255</td>\n",
       "      <td>0.023324</td>\n",
       "      <td>1</td>\n",
       "    </tr>\n",
       "    <tr>\n",
       "      <th>102</th>\n",
       "      <td>1.573486</td>\n",
       "      <td>-0.129349</td>\n",
       "      <td>1.245742</td>\n",
       "      <td>1.222851</td>\n",
       "      <td>1</td>\n",
       "    </tr>\n",
       "  </tbody>\n",
       "</table>\n",
       "<p>120 rows × 5 columns</p>\n",
       "</div>"
      ],
      "text/plain": [
       "     SepalLengthCm  SepalWidthCm  PetalLengthCm  PetalWidthCm  bias\n",
       "22       -1.473937      1.220379      -1.563987     -1.309484     1\n",
       "15       -0.133071      3.020017      -1.277280     -1.042922     1\n",
       "65        1.085898      0.095606       0.385621      0.289886     1\n",
       "11       -1.230143      0.770470      -1.219939     -1.309484     1\n",
       "42       -1.717731      0.320560      -1.391963     -1.309484     1\n",
       "..             ...           ...            ...           ...   ...\n",
       "71        0.354517     -0.579258       0.156255      0.156605     1\n",
       "106      -1.108246     -1.254122       0.442962      0.689728     1\n",
       "14       -0.011174      2.120198      -1.449304     -1.309484     1\n",
       "92       -0.011174     -1.029168       0.156255      0.023324     1\n",
       "102       1.573486     -0.129349       1.245742      1.222851     1\n",
       "\n",
       "[120 rows x 5 columns]"
      ]
     },
     "execution_count": 17,
     "metadata": {},
     "output_type": "execute_result"
    }
   ],
   "source": [
    "X_train"
   ]
  },
  {
   "cell_type": "code",
   "execution_count": 18,
   "id": "6a812eb5",
   "metadata": {},
   "outputs": [
    {
     "data": {
      "text/plain": [
       "array([0., 0., 0., 0., 0.])"
      ]
     },
     "execution_count": 18,
     "metadata": {},
     "output_type": "execute_result"
    }
   ],
   "source": [
    "theta"
   ]
  },
  {
   "cell_type": "markdown",
   "id": "c3c51133",
   "metadata": {},
   "source": [
    "# Defining Hypothesis(Sigmoid Function)"
   ]
  },
  {
   "cell_type": "code",
   "execution_count": 19,
   "id": "a71b03ef",
   "metadata": {},
   "outputs": [],
   "source": [
    "z = np.dot(X_train, theta)\n",
    "h_x = 1/(1 + np.exp(-z))\n"
   ]
  },
  {
   "cell_type": "markdown",
   "id": "f3d9c154",
   "metadata": {},
   "source": [
    "# Cost Function- Binary Cross-Entropy Loss"
   ]
  },
  {
   "cell_type": "code",
   "execution_count": 20,
   "id": "3709a7c6",
   "metadata": {},
   "outputs": [],
   "source": [
    "m = len(X_train) \n",
    "cost = (-1/m)*np.sum((y_versicolor_train * np.log(h_x)) + (1-y_versicolor_train)* np.log(1 - h_x)) "
   ]
  },
  {
   "cell_type": "code",
   "execution_count": 26,
   "id": "7a928dca",
   "metadata": {},
   "outputs": [],
   "source": [
    "grad = (1/m)*np.dot(X_train.T,(h_x - y_versicolor_train))"
   ]
  },
  {
   "cell_type": "markdown",
   "id": "d3d8d1c2",
   "metadata": {},
   "source": [
    "# Implementing Gradient Descent"
   ]
  },
  {
   "cell_type": "code",
   "execution_count": 47,
   "id": "3237a902",
   "metadata": {},
   "outputs": [],
   "source": [
    "learning_rate = 3000\n",
    "alpha = 0.01\n",
    "cost_list = []\n",
    "learning_list = []\n",
    "theta = np.zeros(X_train.shape[1])\n",
    "for i in range(learning_rate):\n",
    "    z = np.dot(X_train, theta)\n",
    "    h_x = 1/(1 + np.exp(-z))\n",
    "    m = len(X_train) \n",
    "    cost = (-1/m)*np.sum((y_versicolor_train * np.log(h_x)) + (1-y_versicolor_train)* np.log(1 - h_x)) \n",
    "    \n",
    "    grad = (1/m)*np.dot(X_train.T,(h_x - y_versicolor_train))\n",
    "    theta -= alpha*grad\n",
    "    \n",
    "    learning_list.append(i)\n",
    "    cost_list.append(cost)\n",
    "    \n",
    "    \n",
    "    "
   ]
  },
  {
   "cell_type": "code",
   "execution_count": 52,
   "id": "ea1b7c94",
   "metadata": {},
   "outputs": [
    {
     "data": {
      "text/plain": [
       "[<matplotlib.lines.Line2D at 0x1350a1cd0>]"
      ]
     },
     "execution_count": 52,
     "metadata": {},
     "output_type": "execute_result"
    },
    {
     "data": {
      "image/png": "[encoded data removed]",
      "text/plain": [
       "<Figure size 500x500 with 1 Axes>"
      ]
     },
     "metadata": {},
     "output_type": "display_data"
    }
   ],
   "source": [
    "plt.figure(figsize = (5,5))\n",
    "plt.plot(learning_list, cost_list)"
   ]
  },
  {
   "cell_type": "markdown",
   "id": "5a6b04df",
   "metadata": {},
   "source": [
    "# Predictions on Train-versicolar Data"
   ]
  },
  {
   "cell_type": "code",
   "execution_count": 59,
   "id": "8fd1dfbd",
   "metadata": {},
   "outputs": [],
   "source": [
    "train_probs = 1/(1 + np.exp(-(np.dot(X_train, theta))))\n",
    "\n",
    "train_probs = (train_probs>=0.5).astype(int)\n",
    "\n",
    "train_accuracy = np.mean(train_probs == y_versicolor_train)"
   ]
  },
  {
   "cell_type": "code",
   "execution_count": 60,
   "id": "67be6983",
   "metadata": {},
   "outputs": [
    {
     "data": {
      "text/plain": [
       "0.6916666666666667"
      ]
     },
     "execution_count": 60,
     "metadata": {},
     "output_type": "execute_result"
    }
   ],
   "source": [
    "train_accuracy"
   ]
  },
  {
   "cell_type": "markdown",
   "id": "d6f96062",
   "metadata": {},
   "source": [
    "# Predictions on Test-versicolor Data"
   ]
  },
  {
   "cell_type": "code",
   "execution_count": 70,
   "id": "5655346c",
   "metadata": {},
   "outputs": [],
   "source": [
    "X_test = X_test.copy()\n",
    "\n",
    "X_test.loc[:,:] = standardise.fit_transform(X_test)\n",
    "X_test[\"bias\"] = 1"
   ]
  },
  {
   "cell_type": "code",
   "execution_count": 72,
   "id": "01948f42",
   "metadata": {},
   "outputs": [],
   "source": [
    "\n",
    "test_probs = 1/(1 + np.exp(-(np.dot(X_test, theta))))\n",
    "test_probs = (test_probs>=0.5).astype(int)\n",
    "test_accuracy = np.mean(test_probs == y_versicolor_test)\n"
   ]
  },
  {
   "cell_type": "code",
   "execution_count": 73,
   "id": "a42c582b",
   "metadata": {},
   "outputs": [
    {
     "data": {
      "text/plain": [
       "0.8"
      ]
     },
     "execution_count": 73,
     "metadata": {},
     "output_type": "execute_result"
    }
   ],
   "source": [
    "test_accuracy"
   ]
  },
  {
   "cell_type": "code",
   "execution_count": 74,
   "id": "9155823b",
   "metadata": {},
   "outputs": [
    {
     "data": {
      "text/plain": [
       "array([1, 0, 1, 0, 1, 0, 0, 0, 1, 1, 0, 0, 0, 0, 0, 0, 0, 1, 0, 0, 0, 0,\n",
       "       0, 0, 0, 0, 1, 0, 0, 0])"
      ]
     },
     "execution_count": 74,
     "metadata": {},
     "output_type": "execute_result"
    }
   ],
   "source": [
    "test_probs"
   ]
  },
  {
   "cell_type": "code",
   "execution_count": 77,
   "id": "1a8f809a",
   "metadata": {},
   "outputs": [
    {
     "data": {
      "text/plain": [
       "array([1, 0, 0, 1, 1, 0, 1, 0, 1, 1, 0, 0, 0, 0, 0, 1, 0, 1, 1, 0, 0, 0,\n",
       "       0, 0, 0, 0, 0, 0, 0, 0], dtype=uint8)"
      ]
     },
     "execution_count": 77,
     "metadata": {},
     "output_type": "execute_result"
    }
   ],
   "source": [
    "np.array(y_versicolor_test)"
   ]
  },
  {
   "cell_type": "markdown",
   "id": "d1cc6aac",
   "metadata": {},
   "source": [
    "# Metrics"
   ]
  },
  {
   "cell_type": "code",
   "execution_count": 79,
   "id": "25a12eb2",
   "metadata": {},
   "outputs": [
    {
     "name": "stdout",
     "output_type": "stream",
     "text": [
      "Precision: 0.71\n",
      "Recall: 0.56\n",
      "F1-Score: 0.63\n"
     ]
    }
   ],
   "source": [
    "from sklearn.metrics import precision_score, recall_score, f1_score\n",
    "\n",
    "# Precision, Recall, F1-score for the test set\n",
    "precision = precision_score(y_versicolor_test, test_probs)\n",
    "recall = recall_score(y_versicolor_test, test_probs)\n",
    "f1 = f1_score(y_versicolor_test, test_probs)\n",
    "\n",
    "print(f\"Precision: {precision:.2f}\")\n",
    "print(f\"Recall: {recall:.2f}\")\n",
    "print(f\"F1-Score: {f1:.2f}\")"
   ]
  },
  {
   "cell_type": "markdown",
   "id": "b106820a",
   "metadata": {},
   "source": [
    "# Decision Boundary"
   ]
  },
  {
   "cell_type": "code",
   "execution_count": 83,
   "id": "78c6c471",
   "metadata": {},
   "outputs": [
    {
     "data": {
      "image/png": "[encoded data removed]",
      "text/plain": [
       "<Figure size 640x480 with 1 Axes>"
      ]
     },
     "metadata": {},
     "output_type": "display_data"
    }
   ],
   "source": [
    "import numpy as np\n",
    "import matplotlib.pyplot as plt\n",
    "\n",
    "# Create a grid of points\n",
    "x1_min, x1_max = X_train.iloc[:, 0].min(), X_train.iloc[:, 0].max()\n",
    "x2_min, x2_max = X_train.iloc[:, 1].min(), X_train.iloc[:, 1].max()\n",
    "\n",
    "xx1, xx2 = np.meshgrid(np.linspace(x1_min, x1_max, 100),\n",
    "                       np.linspace(x2_min, x2_max, 100))\n",
    "\n",
    "# Flatten grid and add a bias term\n",
    "grid = np.c_[xx1.ravel(), xx2.ravel()]\n",
    "grid_with_bias = np.c_[np.ones(grid.shape[0]), grid]  # Add bias term\n",
    "\n",
    "# Compute predictions for the grid points\n",
    "z = np.dot(grid_with_bias, theta[:grid_with_bias.shape[1]])  # Ensure shapes align\n",
    "probs = 1 / (1 + np.exp(-z))\n",
    "probs = probs.reshape(xx1.shape)\n",
    "\n",
    "# Plot decision boundary\n",
    "plt.contourf(xx1, xx2, probs, levels=[0, 0.5, 1], alpha=0.3, colors=['red', 'blue'])\n",
    "\n",
    "# Scatter plot of training points\n",
    "plt.scatter(X_train.iloc[:, 0], X_train.iloc[:, 1], c=y_versicolor_train, edgecolor='k', marker='o')\n",
    "plt.xlabel(\"Feature 1\")\n",
    "plt.ylabel(\"Feature 2\")\n",
    "plt.title(\"Decision Boundary\")\n",
    "plt.show()\n"
   ]
  },
  {
   "cell_type": "code",
   "execution_count": null,
   "id": "feaac930",
   "metadata": {},
   "outputs": [],
   "source": []
  }
 ],
 "metadata": {
  "kernelspec": {
   "display_name": "Python 3 (ipykernel)",
   "language": "python",
   "name": "python3"
  },
  "language_info": {
   "codemirror_mode": {
    "name": "ipython",
    "version": 3
   },
   "file_extension": ".py",
   "mimetype": "text/x-python",
   "name": "python",
   "nbconvert_exporter": "python",
   "pygments_lexer": "ipython3",
   "version": "3.11.4"
  }
 },
 "nbformat": 4,
 "nbformat_minor": 5
}
